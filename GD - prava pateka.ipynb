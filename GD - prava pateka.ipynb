{
 "cells": [
  {
   "cell_type": "code",
   "execution_count": 1,
   "metadata": {},
   "outputs": [],
   "source": [
    "import plotly.graph_objects as go\n",
    "from pandas import read_csv\n",
    "import csv\n",
    "import math\n",
    "import numpy as np\n",
    "import random\n",
    "import matplotlib.pyplot as plt\n",
    "from mpl_toolkits import mplot3d\n",
    "from numpy.linalg import eig\n",
    "from pyquaternion import Quaternion\n",
    "from random import randrange\n",
    "import sympy as sym\n",
    "import script as rt"
   ]
  },
  {
   "cell_type": "markdown",
   "metadata": {},
   "source": [
    "# Вчитување на податоци"
   ]
  },
  {
   "cell_type": "code",
   "execution_count": 2,
   "metadata": {},
   "outputs": [],
   "source": [
    "a = 6378137\n",
    "e = 0.00699437999014\n",
    "with open('Senzori_new.csv') as csvfile:\n",
    "    readCSV = csv.reader(csvfile, delimiter=',')\n",
    "    x_s = []\n",
    "    y_s = []\n",
    "    z_s = []\n",
    "    time_senzori = []\n",
    "    i = 0\n",
    "    for row in readCSV:\n",
    "        if i > 0:\n",
    "            latitude = float(row[2])\n",
    "            longitude = float(row[3])\n",
    "            altitude = float(row[20])\n",
    "            N = (a / (math.sqrt(1 - e * (math.sin(latitude)) ** 2)))\n",
    "            x = ((N + altitude) * math.cos(latitude) * math.cos(longitude))/10\n",
    "            y = ((N + altitude) * math.cos(latitude) * math.sin(longitude))/10\n",
    "            z = ((N * (1 - e) + altitude) * math.sin(latitude))/10\n",
    "            t = int(row[0])\n",
    "            time_senzori.append(t)\n",
    "            x_s.append(x)\n",
    "            y_s.append(y)\n",
    "            z_s.append(z)\n",
    "        i = i + 1"
   ]
  },
  {
   "cell_type": "code",
   "execution_count": 3,
   "metadata": {},
   "outputs": [],
   "source": [
    "with open('SLAM_new.csv') as csvfile:\n",
    "    readCSV = csv.reader(csvfile, delimiter=',')\n",
    "    x_s1 = []\n",
    "    y_s1 = []\n",
    "    z_s1 = []\n",
    "    xf, yf, zf = [], [], []\n",
    "    time_SLAM = []\n",
    "    i = 0\n",
    "    fps = 30\n",
    "    for row in readCSV:\n",
    "        if i >= 1:\n",
    "            x1 = float(row[6])\n",
    "            y1 = float(row[7])\n",
    "            z1 = float(row[8])\n",
    "            xx1 = float(row[18])\n",
    "            yy1 = float(row[19])\n",
    "            zz1 = float(row[20])\n",
    "            frame = int(row[1])\n",
    "            m = frame/fps\n",
    "            t = \"{0:0.1f}\".format(m)\n",
    "            time_SLAM.append(t)\n",
    "            xf.append(xx1)\n",
    "            yf.append(yy1)\n",
    "            zf.append(zz1)\n",
    "            x_s1.append(x1)\n",
    "            y_s1.append(y1)\n",
    "            z_s1.append(z1)\n",
    "        i = i + 1   "
   ]
  },
  {
   "cell_type": "markdown",
   "metadata": {},
   "source": [
    "# Издвојување на податоци(земање само оние кои се во ист временски момент)"
   ]
  },
  {
   "cell_type": "code",
   "execution_count": 4,
   "metadata": {},
   "outputs": [],
   "source": [
    "def times(time): # funkcija sto go doveduva vremeto da pocne od nula\n",
    "    ktime = []\n",
    "    init_time = time[0]\n",
    "    for i in range(len(time)):\n",
    "        t = (time[i] - init_time)/1000\n",
    "        ktime.append(t)\n",
    "    return ktime\n",
    "\n",
    "time_sensors = times(time_senzori)"
   ]
  },
  {
   "cell_type": "code",
   "execution_count": 5,
   "metadata": {},
   "outputs": [],
   "source": [
    "def podatoci(time_sensor, time_slam, x_s, x_s1, y_s, y_s1, z_s, z_s1):\n",
    "    xp = []\n",
    "    xp1 = []\n",
    "    yp = []\n",
    "    yp1 = []\n",
    "    zp = []\n",
    "    zp1 = []\n",
    "    sumx1 = 0\n",
    "    sumy1 = 0\n",
    "    sumz1 = 0\n",
    "    sumx = 0\n",
    "    sumy = 0\n",
    "    sumz = 0\n",
    "    for i in range(len(time_slam)):  #podatoci od slam\n",
    "        ti1 = float(time_slam[i])\n",
    "        x1 = x_s1[i]\n",
    "        y1 = y_s1[i]\n",
    "        z1 = z_s1[i]\n",
    "        sumx1 = sumx1 + x1\n",
    "        sumy1 = sumy1 + y1\n",
    "        sumz1 = sumz1 + z1\n",
    "        xp1.append(x1)\n",
    "        yp1.append(y1)\n",
    "        zp1.append(z1)\n",
    "        for i in range(len(time_sensor)):  # podatoci od SLAM\n",
    "            ti = float(time_sensor[i])\n",
    "            k = ti1 - ti\n",
    "            if k == 0:\n",
    "                x = x_s[i]\n",
    "                y = y_s[i]\n",
    "                z = z_s[i]\n",
    "                sumx = sumx + x\n",
    "                sumy = sumy + y\n",
    "                sumz = sumz + z\n",
    "                xp.append(x)\n",
    "                yp.append(y)\n",
    "                zp.append(z)\n",
    "    sredx1 = sumx1/len(xp1)\n",
    "    sredy1 = sumy1/len(yp1)\n",
    "    sredz1 = sumz1/len(zp1)\n",
    "    sredx = sumx/len(xp)\n",
    "    sredy = sumy/len(yp)\n",
    "    sredz = sumz/len(zp)\n",
    "\n",
    "    return xp, xp1, yp, yp1, zp, zp1, sredx, sredy, sredz, sredx1, sredy1, sredz1      \n",
    "\n",
    "xs, xs1, ys, ys1, zs, zs1, sredxP, sredyP, sredzP, sredxS, sredyS, sredzS = podatoci(time_sensors, time_SLAM, x_s, x_s1, y_s, y_s1, z_s, z_s1)"
   ]
  },
  {
   "cell_type": "markdown",
   "metadata": {},
   "source": [
    "# Транслирање и скалирање"
   ]
  },
  {
   "cell_type": "markdown",
   "metadata": {},
   "source": [
    "За да бидат во ист координатен систем со ист размер"
   ]
  },
  {
   "cell_type": "code",
   "execution_count": 6,
   "metadata": {},
   "outputs": [],
   "source": [
    "def translation(x, y, z, xsred, ysred, zsred):\n",
    "    i = 0\n",
    "    xk = []\n",
    "    yk = []\n",
    "    zk = []\n",
    "    xsum = 0 \n",
    "    ysum = 0\n",
    "    zsum = 0\n",
    "    for i in range(len(x)):\n",
    "        A = np.array([[x[i]],\n",
    "                [y[i]],\n",
    "                [z[i]], \n",
    "                [1]])\n",
    "        B = np.array([[1, 0, 0, -xsred],\n",
    "                [0, 1, 0, -ysred],\n",
    "                [0, 0, 1, -zsred], \n",
    "                [0, 0, 0, 1]])\n",
    "        C = B @ A\n",
    "        x1 = C[0][0]\n",
    "        y1 = C[1][0]\n",
    "        z1 = C[2][0]\n",
    "        xsum = xsum + x1\n",
    "        ysum = ysum + y1\n",
    "        zsum = zsum + z1\n",
    "        xk.append(x1)\n",
    "        yk.append(y1)\n",
    "        zk.append(z1)\n",
    "        i = i + 1\n",
    "    tsredx = xsum/len(x)\n",
    "    tsredy = ysum/len(y)\n",
    "    tsredz = zsum/len(z)\n",
    "    return xk, yk, zk, tsredx, tsredy, tsredz\n",
    "\n",
    "xP, yP, zP, tsredx, tsredy, tsredz = translation(xs, ys, zs, sredxP, sredyP, sredzP) # translacija na tockite od senzori\n",
    "\n",
    "xS, yS, zS, tsredxS, tsredyS, tsredzS = translation(xs1, ys1, zs1, sredxS, sredyS, sredzS)  # translacija na tockite od SLAM"
   ]
  },
  {
   "cell_type": "code",
   "execution_count": 7,
   "metadata": {},
   "outputs": [],
   "source": [
    "def suma_rastojanija(x,y,z,xs,ys,zs):\n",
    "    D = 0\n",
    "    for i in range(len(x)):\n",
    "        D = D + math.sqrt((x[i] - xs)**2 + (y[i] - ys)**2 + (z[i] - zs)**2)\n",
    "    return D\n",
    "d = suma_rastojanija(xP, yP, zP, tsredx, tsredy, tsredz)\n",
    "dS = suma_rastojanija(xS, yS, zS, tsredxS, tsredyS, tsredzS)\n",
    "scal = d /dS"
   ]
  },
  {
   "cell_type": "code",
   "execution_count": 8,
   "metadata": {},
   "outputs": [],
   "source": [
    "def scale(x, y, z, sx, sy, sz):\n",
    "    xsk, ysk, zsk = [], [], []\n",
    "    i = 0\n",
    "    for i in range(len(x)):\n",
    "        A = np.array([[x[i]],\n",
    "                [y[i]],\n",
    "                [z[i]], \n",
    "                [1]])\n",
    "\n",
    "        B = np.array([[sx, 0, 0, 0],\n",
    "                    [0, sy, 0, 0],\n",
    "                    [0, 0, sz, 0],\n",
    "                    [0, 0, 0, 1]])\n",
    "        C = B@A\n",
    "        xs = C[0][0]\n",
    "        ys = C[1][0]\n",
    "        zs = C[2][0]\n",
    "        xsk.append(xs)\n",
    "        ysk.append(ys)\n",
    "        zsk.append(zs)\n",
    "        i = i + 1\n",
    "    \n",
    "    return xsk, ysk, zsk\n",
    "\n",
    "xsk, ysk, zsk = scale(xS, yS, zS, scal, scal, scal)"
   ]
  },
  {
   "cell_type": "code",
   "execution_count": 9,
   "metadata": {},
   "outputs": [],
   "source": [
    "w = np.ones(len(xP))\n",
    "sensor_data = rt.hpoint3(xP, yP, zP, w)\n",
    "sensor_data = np.array(sensor_data, dtype=np.float)\n",
    "\n",
    "slam_scale = rt.hpoint3(xsk, ysk, zsk, w)\n",
    "slam_scale = np.array(slam_scale, dtype=np.float)\n"
   ]
  },
  {
   "cell_type": "markdown",
   "metadata": {},
   "source": [
    "# Ротациона матрица со Gradient descent"
   ]
  },
  {
   "cell_type": "code",
   "execution_count": 10,
   "metadata": {},
   "outputs": [
    {
     "data": {
      "application/vnd.jupyter.widget-view+json": {
       "model_id": "4a1e7b8c53b24ed089a0d04b20ca8aa8",
       "version_major": 2,
       "version_minor": 0
      },
      "text/plain": [
       "FigureWidget({\n",
       "    'data': [{'marker': {'color': array([ 0,  1,  2,  3,  4,  5,  6,  7,  8,  9, 10, 11, 12, 13…"
      ]
     },
     "metadata": {},
     "output_type": "display_data"
    }
   ],
   "source": [
    "fig = go.FigureWidget()\n",
    "#fig.update_layout(xaxis={'range': [-7, 6]}, yaxis={'range': [1, 13]}),\n",
    "fig.update_layout(\n",
    "    scene = dict(\n",
    "        xaxis = dict(),\n",
    "                     yaxis = dict(),\n",
    "                     zaxis = dict(),),)\n",
    "fig.add_trace(go.Scatter3d(x=sensor_data[0, :], y=sensor_data[1, :], z=sensor_data[2, :], mode='markers', name='Сензори',\n",
    "                         marker={'size': 5, 'symbol': 'x', 'color': np.arange(sensor_data.shape[1])}))\n",
    "fig.add_trace(go.Scatter3d(x=slam_scale[0, :], y=slam_scale[1, :], z=slam_scale[2, :], mode='markers', name='SLAM', \n",
    "                          marker={'size': 5, 'color': np.arange(slam_scale.shape[1])}))\n",
    "\n",
    "fig"
   ]
  },
  {
   "cell_type": "code",
   "execution_count": 11,
   "metadata": {},
   "outputs": [
    {
     "data": {
      "text/plain": [
       "array([[ 0.4460304 ,  0.89297936, -0.06037173,  0.        ],\n",
       "       [-0.6138504 ,  0.25612608, -0.74671756,  0.        ],\n",
       "       [-0.65134059,  0.37011794,  0.66239576,  0.        ],\n",
       "       [ 0.        ,  0.        ,  0.        ,  1.        ]])"
      ]
     },
     "execution_count": 11,
     "metadata": {},
     "output_type": "execute_result"
    }
   ],
   "source": [
    "def step_gradient(sensor_points, slam_points, transform, learning_rate):\n",
    "    \"\"\"\n",
    "    Чекор со gradient descent.\n",
    "    \n",
    "    sensor_points, slam_points: се податоците кои ќе ни послужат за пресметка на грешката.\n",
    "    transform: е матрицата на трансформација чии членови ги бараме во оваа функција\n",
    "    learning_rate: стапката на учење\n",
    "    \"\"\"\n",
    "    x_gradient, y_gradient, z_gradient, rx_g, ry_g, rz_g = 0, 0, 0, 0, 0, 0\n",
    "    new_sensor_points = (transform @ slam_points).T\n",
    "    r_vector = sensor_points.T - new_sensor_points \n",
    "    r_x_vector, r_y_vector, r_z_vector = r_vector[:, 0], r_vector[:, 1], r_vector[:, 2] \n",
    "    m = len(r_vector)\n",
    "    for r_x, r_y, r_z, sensor_point in zip(r_x_vector, r_y_vector, r_z_vector, sensor_points):\n",
    "        x_gradient += r_x \n",
    "        y_gradient += r_y  \n",
    "        z_gradient += r_z\n",
    "        rx_g += -sensor_point[2] * r_y + sensor_point[1] * r_z    # го пресметуваме градиентот за аголот\n",
    "        ry_g +=  sensor_point[2] * r_x - sensor_point[0] * r_z    \n",
    "        rz_g += -sensor_point[1] * r_x + sensor_point[0] * r_y    \n",
    "    dx = -learning_rate * x_gradient / m  \n",
    "    dy = -learning_rate * y_gradient / m  \n",
    "    dz = -learning_rate * z_gradient / m\n",
    "    dalpha = -learning_rate/10 * rx_g / m   \n",
    "    dbeta = -learning_rate/10 * ry_g / m\n",
    "    dgama = -learning_rate/10 * rz_g / m\n",
    "    if dalpha>=0.000001 or dbeta>=0.000001 or dgama>=0.000001:\n",
    "        delta_transform = np.array(rt.hrotation3('x', dalpha) * rt.hrotation3('y', dbeta) * rt.hrotation3('z', dgama), dtype=np.float)\n",
    "        transform = delta_transform @ transform\n",
    "    else:\n",
    "        return transform, new_sensor_points\n",
    "\n",
    "    # претходните 3 чекори по секој степен на слобода ги соединуваме во една трансформациона матрица\n",
    "    #delta_transform = np.array(rt.hrotation3('x', dalpha) * rt.hrotation3('y', dbeta) * rt.hrotation3('z', dgama), dtype=np.float)\n",
    "    # и конечно го правиме чекорот\n",
    "    #transform = delta_transform @ transform\n",
    "    # на крајот ја враќаме обновената вредност на transform и предвидената вредност за изместените податоци за да ги исцртаме\n",
    "    return transform, new_sensor_points\n",
    "\n",
    "def run(fig, sensor_points, slam_points):\n",
    "    learning_rate = -0.01\n",
    "    num_iterations = 10000\n",
    "    # почнуваме со случајно избрани вредности за alpha, beta, gama\n",
    "    alpha, beta, gama = 0, 0, 0\n",
    "    transform = np.array(rt.hrotation3('x', alpha) * rt.hrotation3('y', beta) * rt.hrotation3('z', gama), dtype=np.float)\n",
    "    for i in range(num_iterations):\n",
    "        transform, new_sensor_points = step_gradient(sensor_points, slam_points, transform, learning_rate)\n",
    "        # цртаме на секоја стота итерација\n",
    "        if i % 100 == 0:\n",
    "            with fig.batch_update():\n",
    "                fig.data[1].x, fig.data[1].y, fig.data[1].z = new_sensor_points[:, 0], new_sensor_points[:, 1], new_sensor_points[:, 2]\n",
    "                fig.data[1].marker.color = np.arange(len(new_sensor_points))\n",
    "    \n",
    "    return transform, new_sensor_points \n",
    "\n",
    "#final_transform, sensor_d = run(fig, sensor_data, slam_scale)\n",
    "#final_transform"
   ]
  },
  {
   "cell_type": "markdown",
   "metadata": {},
   "source": [
    "#                                    Симулација за во реално време"
   ]
  },
  {
   "cell_type": "code",
   "execution_count": 12,
   "metadata": {},
   "outputs": [],
   "source": [
    "def runn(fig, sensor_points, slam_points, transform):\n",
    "    learning_rate = -0.01\n",
    "    num_interations = 1000\n",
    "    for i in range(num_interations):\n",
    "        transform, new_sensor_points = step_gradient(sensor_points, slam_points, transform, learning_rate)\n",
    "        if i % 100 == 0:\n",
    "            with fig.batch_update():\n",
    "                #fig.data[0].x, fig.data[0].y, fig.data[0].z = slam_points[0, :], slam_points[1, :], slam_points[2, :]\n",
    "                #fig.data[0].marker.color = np.arange(len(slam_points[0, :]))\n",
    "                fig.data[1].x, fig.data[1].y, fig.data[1].z = new_sensor_points[:, 0], new_sensor_points[:, 1], new_sensor_points[:, 2]\n",
    "                fig.data[1].marker.color = np.arange(len(new_sensor_points))\n",
    "    return transform, new_sensor_points\n",
    "\n",
    "def real_time(fig, sensor_data, slam_scale):\n",
    "    alpha, beta, gama = 0, 0, 0\n",
    "    #почетна трансформациона матрица\n",
    "    transform = np.array(rt.hrotation3('x', alpha) * rt.hrotation3('y', beta) * rt.hrotation3('z', gama), dtype=np.float)\n",
    "    for i in range(len(sensor_data[0, :])):\n",
    "        # земи ги првите 5 точки и во секој нареден чекор земај ги наредните 3\n",
    "        i = 5 + i*3\n",
    "        sensor_dataa = sensor_data[:4, :i] \n",
    "        slam_scalee = slam_scale[:4, :i]\n",
    "        #print(transform)\n",
    "        # повикај  ГД за секоја интерација\n",
    "        transform, sensor_d = runn(fig, sensor_dataa, slam_scalee, transform)\n",
    "        #print(transform)\n",
    "    return transform"
   ]
  },
  {
   "cell_type": "code",
   "execution_count": 13,
   "metadata": {},
   "outputs": [
    {
     "data": {
      "application/vnd.jupyter.widget-view+json": {
       "model_id": "1c7ee8cbac834eb48f1c994c4c9bb4b3",
       "version_major": 2,
       "version_minor": 0
      },
      "text/plain": [
       "FigureWidget({\n",
       "    'data': [{'marker': {'color': array([ 0,  1,  2,  3,  4,  5,  6,  7,  8,  9, 10, 11, 12, 13…"
      ]
     },
     "metadata": {},
     "output_type": "display_data"
    }
   ],
   "source": [
    "fig = go.FigureWidget()\n",
    "fig.update_layout(\n",
    "    scene = dict(\n",
    "        xaxis = dict(),\n",
    "                     yaxis = dict(),\n",
    "                     zaxis = dict(),),)\n",
    "fig.add_trace(go.Scatter3d(x=sensor_data[0, :], y=sensor_data[1, :], z=sensor_data[2, :], mode='markers', name='Сензори',\n",
    "                         marker={'size': 5, 'symbol': 'x', 'color': np.arange(sensor_data.shape[1])}))\n",
    "fig.add_trace(go.Scatter3d(x=slam_scale[0, :], y=slam_scale[1, :], z=slam_scale[2, :], mode='markers', name='SLAM', \n",
    "                          marker={'size': 5, 'color': np.arange(slam_scale.shape[1])}))\n",
    "\n",
    "fig"
   ]
  },
  {
   "cell_type": "code",
   "execution_count": 14,
   "metadata": {},
   "outputs": [
    {
     "data": {
      "text/plain": [
       "array([[ 0.32552009,  0.89011443,  0.31895606,  0.        ],\n",
       "       [ 0.36324929,  0.19371619, -0.91133089,  0.        ],\n",
       "       [-0.87297573,  0.41251707, -0.26027492,  0.        ],\n",
       "       [ 0.        ,  0.        ,  0.        ,  1.        ]])"
      ]
     },
     "execution_count": 14,
     "metadata": {},
     "output_type": "execute_result"
    }
   ],
   "source": [
    "real_time(fig, sensor_data, slam_scale)"
   ]
  },
  {
   "cell_type": "code",
   "execution_count": null,
   "metadata": {},
   "outputs": [],
   "source": []
  }
 ],
 "metadata": {
  "kernelspec": {
   "display_name": "Python 3",
   "language": "python",
   "name": "python3"
  },
  "language_info": {
   "codemirror_mode": {
    "name": "ipython",
    "version": 3
   },
   "file_extension": ".py",
   "mimetype": "text/x-python",
   "name": "python",
   "nbconvert_exporter": "python",
   "pygments_lexer": "ipython3",
   "version": "3.7.4"
  }
 },
 "nbformat": 4,
 "nbformat_minor": 2
}
