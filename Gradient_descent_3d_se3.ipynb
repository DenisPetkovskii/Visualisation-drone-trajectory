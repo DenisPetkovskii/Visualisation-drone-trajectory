{
 "cells": [
  {
   "cell_type": "code",
   "execution_count": 2,
   "metadata": {},
   "outputs": [],
   "source": [
    "import numpy as np\n",
    "import sympy as sp\n",
    "from plotly import graph_objects as go\n",
    "import script as rt"
   ]
  },
  {
   "cell_type": "markdown",
   "metadata": {},
   "source": [
    "Прво си измислуваме / дефинираме податоците."
   ]
  },
  {
   "cell_type": "code",
   "execution_count": 6,
   "metadata": {},
   "outputs": [],
   "source": [
    "h_slam_points = np.array([[1, 2, 1, 1], [3, 5, 1.4, 1], [4, 7, 2, 1], [5, 8, 2.6, 1], [7, 7, 3, 1]])\n",
    "transform = rt.hrotation3('x', sp.pi/3) * rt.htranslation3(2.7, 5, 5.8)\n",
    "transform = np.array(transform, dtype=np.float)\n",
    "h_sensor_points = (transform @ h_slam_points.T).T"
   ]
  },
  {
   "cell_type": "markdown",
   "metadata": {},
   "source": [
    "Изврши ја прво оваа ќелија, потоа наредната и гледај го исходот на графикот."
   ]
  },
  {
   "cell_type": "code",
   "execution_count": 7,
   "metadata": {},
   "outputs": [
    {
     "data": {
      "application/vnd.jupyter.widget-view+json": {
       "model_id": "687c4926711f4e98ae26758affbb18a0",
       "version_major": 2,
       "version_minor": 0
      },
      "text/plain": [
       "FigureWidget({\n",
       "    'data': [{'marker': {'color': array([0, 1, 2, 3, 4]), 'size': 10, 'symbol': 'x'},\n",
       "         …"
      ]
     },
     "metadata": {},
     "output_type": "display_data"
    }
   ],
   "source": [
    "fig = go.FigureWidget()\n",
    "fig.update_layout(xaxis={'range': [-7, 6]}, yaxis={'range': [1, 13]})\n",
    "fig.add_trace(go.Scatter3d(x=h_sensor_points[:, 0], y=h_sensor_points[:, 1], z=h_sensor_points[:, 2], mode='markers', name='Сензори',\n",
    "                           marker={'size': 10, 'symbol': 'x', 'color': np.arange(len(h_sensor_points))}))\n",
    "fig.add_trace(go.Scatter3d(x=h_slam_points[:, 0], y=h_slam_points[:, 1], z=h_slam_points[:, 2], mode='markers', name='SLAM', \n",
    "                           marker={'size': 10, 'color': np.arange(len(h_slam_points))}))\n",
    "fig"
   ]
  },
  {
   "cell_type": "code",
   "execution_count": 8,
   "metadata": {},
   "outputs": [
    {
     "data": {
      "text/plain": [
       "array([[ 9.99471126e-01,  2.40856260e-03, -3.24294088e-02,\n",
       "         2.75755998e+00],\n",
       "       [-2.88670931e-02,  5.24859743e-01, -8.50699090e-01,\n",
       "        -2.58401124e+00],\n",
       "       [ 1.49719291e-02,  8.51185320e-01,  5.24651686e-01,\n",
       "         7.20453011e+00],\n",
       "       [ 0.00000000e+00,  0.00000000e+00,  0.00000000e+00,\n",
       "         1.00000000e+00]])"
      ]
     },
     "execution_count": 8,
     "metadata": {},
     "output_type": "execute_result"
    }
   ],
   "source": [
    "def error(h_sensor_points, h_slam_points, x, y, alpha):\n",
    "    \"\"\"\n",
    "    Функција која ја пресметува грешката, на начин на кој сме ја дефинирале.\n",
    "    \"\"\"\n",
    "    transform = rt.hrotation2(alpha) * rt.htranslation2(x, y)\n",
    "    transform = np.array(transform, dtype=np.float)\n",
    "    h_hat_sensor_points = (transform @ h_slam_points.T).T\n",
    "    e = h_sensor_points - h_hat_sensor_points\n",
    "    return np.apply_along_axis(lambda x: x.T @ x, 1, e)\n",
    "\n",
    "def step_gradient(h_sensor_points, h_slam_points, transform, learning_rate):\n",
    "    \"\"\"\n",
    "    Чекор со gradient descent.\n",
    "    \n",
    "    h_sensor_points, h_slam_points: се податоците кои ќе ни послужат за пресметка на грешката.\n",
    "    transform: е матрицата на трансформација чии членови ги бараме во оваа функција\n",
    "    learning_rate: стапката на учење\n",
    "    \"\"\"\n",
    "    x_g, y_g, z_g, rx_g, ry_g, rz_g = 0, 0, 0, 0, 0, 0\n",
    "    h_hat_sensor_points = (transform @ h_slam_points.T).T  # чекорот го почнуваме од моменталното предвидување...\n",
    "    r_vector = h_sensor_points - h_hat_sensor_points  # ...сѐ со цел да ја пресметаме грешката која ќе ни треба понатаму\n",
    "    # тука ги вадиме грешките по x и y за секоја точка. Користиме хомогени координати\n",
    "    r_x_vector, r_y_vector, r_z_vector = r_vector[:, 0], r_vector[:, 1], r_vector[:, 2]\n",
    "    m = len(r_vector)\n",
    "    for r_x, r_y, r_z, h_sensor_point in zip(r_x_vector, r_y_vector, r_z_vector, h_sensor_points):\n",
    "        x_g += r_x  # го пресметуваме градиентот по x\n",
    "        y_g += r_y  # го пресметуваме градиентот по y\n",
    "        z_g += r_z  # го пресметуваме градиентот по z\n",
    "        rx_g += -h_sensor_point[2] * r_y + h_sensor_point[1] * r_z    # го пресметуваме градиентот за аголот\n",
    "        ry_g +=  h_sensor_point[2] * r_x - h_sensor_point[0] * r_z    # го пресметуваме градиентот за аголот\n",
    "        rz_g += -h_sensor_point[1] * r_x + h_sensor_point[0] * r_y    # го пресметуваме градиентот за аголот\n",
    "    dx = -learning_rate * x_g / m  # потоа со градиентот откриваме колкав чекор треба да направиме по x\n",
    "    dy = -learning_rate * y_g / m  # потоа со градиентот откриваме колкав чекор треба да направиме по y\n",
    "    dz = -learning_rate * z_g / m  # потоа со градиентот откриваме колкав чекор треба да направиме по z\n",
    "    drx = -learning_rate/10 * rx_g / m   # потоа со градиентот откриваме колкав чекор треба да направиме по rx\n",
    "    dry = -learning_rate/10 * ry_g / m   # потоа со градиентот откриваме колкав чекор треба да направиме по ry\n",
    "    drz = -learning_rate/10 * rz_g / m   # потоа со градиентот откриваме колкав чекор треба да направиме по rz\n",
    "#     dalpha = -learning_rate/10 * alpha_gradient / m   # потоа со градиентот откриваме колкав чекор треба да направиме по alpha\n",
    "    # претходните 3 чекори по секој степен на слобода ги соединуваме во една трансформациона матрица\n",
    "    delta_transform = np.array(rt.hrotation3('x', drx) * rt.hrotation3('y', dry) * rt.hrotation3('z', drz) * rt.htranslation3(dx, dy, dz), dtype=np.float)\n",
    "    # и конечно го правиме чекорот\n",
    "    transform = delta_transform @ transform\n",
    "    # на крајот ја враќаме обновената вредност на transform и предвидената вредност за изместените податоци за да ги исцртаме\n",
    "    return transform, h_hat_sensor_points\n",
    "\n",
    "def run(fig, h_sensor_points, h_slam_points):\n",
    "    learning_rate = -0.01\n",
    "    num_iterations = 10000\n",
    "    # почнуваме со случајно избрани вредности за x, y, и alpha\n",
    "    x, y, z, alpha, beta, gamma = 0, 0, 0, 0, 0, 0\n",
    "    transform = np.array(rt.hrotation3('x', alpha) * rt.htranslation3(x, y, z), dtype=np.float)\n",
    "\n",
    "    for i in range(num_iterations):\n",
    "        transform, h_hat_sensor_points = step_gradient(h_sensor_points, h_slam_points, transform, learning_rate)\n",
    "        # цртаме на секоја стота итерација\n",
    "        if i % 100 == 0:\n",
    "            x, y, z = transform[0, 3], transform[1, 3], transform[2, 3]\n",
    "            with fig.batch_update():\n",
    "                fig.data[1].x, fig.data[1].y, fig.data[1].z = h_hat_sensor_points[:, 0], h_hat_sensor_points[:, 1], h_hat_sensor_points[:, 2]\n",
    "                fig.data[1].marker.color = np.arange(len(h_hat_sensor_points))\n",
    "    return transform\n",
    "\n",
    "final_transform = run(fig, h_sensor_points, h_slam_points)\n",
    "final_transform"
   ]
  },
  {
   "cell_type": "code",
   "execution_count": 9,
   "metadata": {},
   "outputs": [
    {
     "data": {
      "text/plain": [
       "array([[1. , 2. , 1. , 1. ],\n",
       "       [3. , 5. , 1.4, 1. ],\n",
       "       [4. , 7. , 2. , 1. ],\n",
       "       [5. , 8. , 2.6, 1. ],\n",
       "       [7. , 7. , 3. , 1. ]])"
      ]
     },
     "execution_count": 9,
     "metadata": {},
     "output_type": "execute_result"
    }
   ],
   "source": [
    "h_slam_points"
   ]
  },
  {
   "cell_type": "code",
   "execution_count": 10,
   "metadata": {},
   "outputs": [
    {
     "data": {
      "text/plain": [
       "array([[ 3.7       , -2.38897275,  9.46217783,  1.        ],\n",
       "       [ 5.7       , -1.23538291, 12.26025404,  1.        ],\n",
       "       [ 6.7       , -0.75499815, 14.29230485,  1.        ],\n",
       "       [ 7.7       , -0.77461339, 15.45833025,  1.        ],\n",
       "       [ 9.7       , -1.62102355, 14.79230485,  1.        ]])"
      ]
     },
     "execution_count": 10,
     "metadata": {},
     "output_type": "execute_result"
    }
   ],
   "source": [
    "h_sensor_points"
   ]
  },
  {
   "cell_type": "code",
   "execution_count": 11,
   "metadata": {},
   "outputs": [
    {
     "data": {
      "text/plain": [
       "array([[ 1.        ,  0.        ,  0.        ,  2.7       ],\n",
       "       [ 0.        ,  0.5       , -0.8660254 , -2.52294734],\n",
       "       [ 0.        ,  0.8660254 ,  0.5       ,  7.23012702],\n",
       "       [ 0.        ,  0.        ,  0.        ,  1.        ]])"
      ]
     },
     "execution_count": 11,
     "metadata": {},
     "output_type": "execute_result"
    }
   ],
   "source": [
    "transform"
   ]
  },
  {
   "cell_type": "code",
   "execution_count": 15,
   "metadata": {},
   "outputs": [
    {
     "data": {
      "text/plain": [
       "array([[ 9.99471126e-01,  2.40856260e-03, -3.24294088e-02,\n",
       "         2.75755998e+00],\n",
       "       [-2.88670931e-02,  5.24859743e-01, -8.50699090e-01,\n",
       "        -2.58401124e+00],\n",
       "       [ 1.49719291e-02,  8.51185320e-01,  5.24651686e-01,\n",
       "         7.20453011e+00],\n",
       "       [ 0.00000000e+00,  0.00000000e+00,  0.00000000e+00,\n",
       "         1.00000000e+00]])"
      ]
     },
     "execution_count": 15,
     "metadata": {},
     "output_type": "execute_result"
    }
   ],
   "source": [
    "final_transform"
   ]
  },
  {
   "cell_type": "code",
   "execution_count": 20,
   "metadata": {},
   "outputs": [
    {
     "data": {
      "text/plain": [
       "array([[ 3.7       , -2.38897275,  9.46217783,  1.        ],\n",
       "       [ 5.7       , -1.23538291, 12.26025404,  1.        ],\n",
       "       [ 6.7       , -0.75499815, 14.29230485,  1.        ],\n",
       "       [ 7.7       , -0.77461339, 15.45833025,  1.        ],\n",
       "       [ 9.7       , -1.62102355, 14.79230485,  1.        ]])"
      ]
     },
     "execution_count": 20,
     "metadata": {},
     "output_type": "execute_result"
    }
   ],
   "source": [
    "(transform @ h_slam_points.T).T"
   ]
  },
  {
   "cell_type": "code",
   "execution_count": 19,
   "metadata": {},
   "outputs": [
    {
     "data": {
      "text/plain": [
       "array([[ 3.72941883, -2.41385794,  9.44652437,  1.        ],\n",
       "       [ 5.722615  , -1.23729254, 12.23988486,  1.        ],\n",
       "       [ 6.70744561, -0.7268596 , 14.27201844,  1.        ],\n",
       "       [ 7.68986765, -0.7412864 , 15.4529667 ,  1.        ],\n",
       "       [ 9.67342958, -1.66415997, 14.84158591,  1.        ]])"
      ]
     },
     "execution_count": 19,
     "metadata": {},
     "output_type": "execute_result"
    }
   ],
   "source": [
    "(final_transform @ h_slam_points.T).T"
   ]
  },
  {
   "cell_type": "code",
   "execution_count": null,
   "metadata": {},
   "outputs": [],
   "source": []
  },
  {
   "cell_type": "code",
   "execution_count": null,
   "metadata": {},
   "outputs": [],
   "source": []
  },
  {
   "cell_type": "code",
   "execution_count": null,
   "metadata": {},
   "outputs": [],
   "source": []
  }
 ],
 "metadata": {
  "kernelspec": {
   "display_name": "Python 3",
   "language": "python",
   "name": "python3"
  },
  "language_info": {
   "codemirror_mode": {
    "name": "ipython",
    "version": 3
   },
   "file_extension": ".py",
   "mimetype": "text/x-python",
   "name": "python",
   "nbconvert_exporter": "python",
   "pygments_lexer": "ipython3",
   "version": "3.8.3"
  }
 },
 "nbformat": 4,
 "nbformat_minor": 4
}
