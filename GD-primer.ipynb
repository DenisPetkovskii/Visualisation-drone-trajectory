{
 "cells": [
  {
   "cell_type": "code",
   "execution_count": 1,
   "metadata": {},
   "outputs": [],
   "source": [
    "import numpy as np\n",
    "import sympy as sp\n",
    "from plotly import graph_objects as go\n",
    "import script as rt\n",
    "import math\n",
    "from pyquaternion import Quaternion\n",
    "import quaternion"
   ]
  },
  {
   "cell_type": "code",
   "execution_count": 9,
   "metadata": {},
   "outputs": [],
   "source": [
    "h_slam_points = np.array([[1, 1, 1, 1], [2, 2, 2, 1], [4, 4, 4, 1], [6, 6, 6, 1]])\n",
    "h_sensor_points = np.array([[-1, -1, -1, 1], [-2, -2, -2, 1], [-4, -4, -4, 1], [-6, -6, -6, 1]])\n",
    "#h_sensor_points = np.array([[11, 1, 1, 1], [8, 4, 4, 1], [5, 6, 5, 1], [4, 8, 6, 1], [4, 12, 7, 1]]) \n",
    "# so vtorite tocki ne raboti dobro\n",
    "x_se = h_sensor_points[:, 0]\n",
    "y_se = h_sensor_points[:, 1]\n",
    "z_se = h_sensor_points[:, 2]\n",
    "x_sl = h_slam_points[:, 0]\n",
    "y_sl = h_slam_points[:, 1]\n",
    "z_sl = h_slam_points[:, 2]\n",
    "xsr = np.mean(x_se)\n",
    "ysr = np.mean(y_se)\n",
    "zsr = np.mean(z_se)\n",
    "xSr = np.mean(x_sl)\n",
    "ySr = np.mean(y_sl)\n",
    "zSr = np.mean(z_sl)"
   ]
  },
  {
   "cell_type": "code",
   "execution_count": 10,
   "metadata": {},
   "outputs": [],
   "source": [
    "def translation(x, y, z, xsred, ysred, zsred):\n",
    "    i = 0\n",
    "    xk = []\n",
    "    yk = []\n",
    "    zk = []\n",
    "    xsum = 0 \n",
    "    ysum = 0\n",
    "    zsum = 0\n",
    "    for i in range(len(x)):\n",
    "        A = np.array([[x[i]],\n",
    "                [y[i]],\n",
    "                [z[i]], \n",
    "                [1]])\n",
    "        B = np.array([[1, 0, 0, -xsred],\n",
    "                [0, 1, 0, -ysred],\n",
    "                [0, 0, 1, -zsred], \n",
    "                [0, 0, 0, 1]])\n",
    "        C = B @ A\n",
    "        x1 = C[0][0]\n",
    "        y1 = C[1][0]\n",
    "        z1 = C[2][0]\n",
    "        xsum = xsum + x1\n",
    "        ysum = ysum + y1\n",
    "        zsum = zsum + z1\n",
    "        xk.append(x1)\n",
    "        yk.append(y1)\n",
    "        zk.append(z1)\n",
    "        i = i + 1\n",
    "    tsredx = xsum/len(x)\n",
    "    tsredy = ysum/len(y)\n",
    "    tsredz = zsum/len(z)\n",
    "    return xk, yk, zk, tsredx, tsredy, tsredz\n",
    "\n",
    "xP, yP, zP, tsredx, tsredy, tsredz = translation(x_se, y_se, z_se, xsr, ysr, zsr) # translacija na tockite od senzori\n",
    "\n",
    "\n",
    "xS, yS, zS, tsredxS, tsredyS, tsredzS = translation(x_sl, y_sl, z_sl, xSr, ySr, zSr)  # translacija na tockite od SLAM"
   ]
  },
  {
   "cell_type": "code",
   "execution_count": 11,
   "metadata": {},
   "outputs": [
    {
     "name": "stdout",
     "output_type": "stream",
     "text": [
      "1.0\n"
     ]
    }
   ],
   "source": [
    "def suma_rastojanija(x,y,z,xs,ys,zs):\n",
    "    D = 0\n",
    "    for i in range(len(x)):\n",
    "        D = D + math.sqrt((x[i] - xs)**2 + (y[i] - ys)**2 + (z[i] - zs)**2)\n",
    "    return D\n",
    "d = suma_rastojanija(xP, yP, zP, tsredx, tsredy, tsredz)\n",
    "dS = suma_rastojanija(xS, yS, zS, tsredxS, tsredyS, tsredzS)\n",
    "scal = d /dS\n",
    "print(scal)"
   ]
  },
  {
   "cell_type": "code",
   "execution_count": 12,
   "metadata": {},
   "outputs": [],
   "source": [
    "def scale(x, y, z, sx, sy, sz):\n",
    "    xsk, ysk, zsk = [], [], []\n",
    "    i = 0\n",
    "    for i in range(len(x)):\n",
    "        A = np.array([[x[i]],\n",
    "                [y[i]],\n",
    "                [z[i]], \n",
    "                [1]])\n",
    "\n",
    "        B = np.array([[sx, 0, 0, 0],\n",
    "                    [0, sy, 0, 0],\n",
    "                    [0, 0, sz, 0],\n",
    "                    [0, 0, 0, 1]])\n",
    "        C = B@A\n",
    "        xs = C[0][0]\n",
    "        ys = C[1][0]\n",
    "        zs = C[2][0]\n",
    "        xsk.append(xs)\n",
    "        ysk.append(ys)\n",
    "        zsk.append(zs)\n",
    "        i = i + 1\n",
    "    \n",
    "    return xsk, ysk, zsk\n",
    "\n",
    "xsk, ysk, zsk = scale(xS, yS, zS, scal, scal, scal)"
   ]
  },
  {
   "cell_type": "code",
   "execution_count": 13,
   "metadata": {},
   "outputs": [],
   "source": [
    "w = np.ones(len(xP))\n",
    "sensor_data = rt.hpoint3(xP, yP, zP, w)\n",
    "sensor_data = np.array(sensor_data, dtype=np.float)"
   ]
  },
  {
   "cell_type": "code",
   "execution_count": 14,
   "metadata": {},
   "outputs": [],
   "source": [
    "slam_scale = rt.hpoint3(xsk, ysk, zsk, w)\n",
    "slam_scale = np.array(slam_scale, dtype=np.float)"
   ]
  },
  {
   "cell_type": "code",
   "execution_count": 15,
   "metadata": {
    "scrolled": true
   },
   "outputs": [
    {
     "data": {
      "application/vnd.jupyter.widget-view+json": {
       "model_id": "53138ae8db6848f9a18bf3d2c508b3de",
       "version_major": 2,
       "version_minor": 0
      },
      "text/plain": [
       "FigureWidget({\n",
       "    'data': [{'marker': {'color': array([0, 1, 2, 3]), 'size': 5, 'symbol': 'x'},\n",
       "             …"
      ]
     },
     "metadata": {},
     "output_type": "display_data"
    }
   ],
   "source": [
    "fig = go.FigureWidget()\n",
    "#fig.update_layout(xaxis={'range': [-7, 6]}, yaxis={'range': [1, 13]}),\n",
    "fig.update_layout(\n",
    "    scene = dict(\n",
    "        xaxis = dict(),\n",
    "                     yaxis = dict(),\n",
    "                     zaxis = dict(),),)\n",
    "fig.add_trace(go.Scatter3d(x=sensor_data[0, :], y=sensor_data[1, :], z=sensor_data[2, :], mode='markers', name='Сензори',\n",
    "                         marker={'size': 5, 'symbol': 'x', 'color': np.arange(sensor_data.shape[1])}))\n",
    "fig.add_trace(go.Scatter3d(x=slam_scale[0, :], y=slam_scale[1, :], z=slam_scale[2, :], mode='markers', name='SLAM', \n",
    "                          marker={'size': 5, 'color': np.arange(slam_scale.shape[1])}))\n",
    "\n",
    "fig"
   ]
  },
  {
   "cell_type": "code",
   "execution_count": 16,
   "metadata": {},
   "outputs": [
    {
     "data": {
      "text/plain": [
       "(176.40801681616531, -138.7625434718797, -28.47709083528058)"
      ]
     },
     "execution_count": 16,
     "metadata": {},
     "output_type": "execute_result"
    }
   ],
   "source": [
    "def error(sensor_points, slam_points, alpha, beta, gama):\n",
    "    \"\"\"\n",
    "    Функција која ја пресметува грешката, на начин на кој сме ја дефинирале.\n",
    "    \"\"\"\n",
    "    transform = rt.hrotation3('x', alpha) * rt.hrotation3('y', beta) * rt.hrotation3('z', gama)\n",
    "    transform = np.array(transform, dtype=np.float)\n",
    "    new_sensor_points = (transform @ slam_points)\n",
    "    e = sensor_points.T - new_sensor_points.T\n",
    "    return np.apply_along_axis(lambda x: x.T @ x, 1, e)\n",
    "\n",
    "def step_gradient(sensor_points, slam_points, transform, learning_rate):\n",
    "    \"\"\"\n",
    "    Чекор со gradient descent.\n",
    "    \n",
    "    h_sensor_points, h_slam_points: се податоците кои ќе ни послужат за пресметка на грешката.\n",
    "    transform: е матрицата на трансформација чии членови ги бараме во оваа функција\n",
    "    learning_rate: стапката на учење\n",
    "    \"\"\"\n",
    "    x_gradient, y_gradient, z_gradient, alpha_gradient, beta_gradient, gama_gradient = 0, 0, 0, 0, 0, 0\n",
    "    new_sensor_points = (transform @ slam_points).T\n",
    "    r_vector = sensor_points.T - new_sensor_points \n",
    "    r_x_vector, r_y_vector, r_z_vector = r_vector[:, 0], r_vector[:, 1], r_vector[:, 2]  \n",
    "    m = len(r_vector)\n",
    "    for r_x, r_y, r_z, sensor_point in zip(r_x_vector, r_y_vector, r_z_vector, sensor_points):\n",
    "        x_gradient += r_x \n",
    "        y_gradient += r_y  \n",
    "        z_gradient += r_z\n",
    "        alpha_gradient += -sensor_point[1] * r_x + sensor_point[0] * r_y   \n",
    "        beta_gradient += sensor_point[2] * r_x - sensor_point[0] * r_z     \n",
    "        gama_gradient += -sensor_point[2] * r_y + sensor_point[1] * r_z    \n",
    "    dx = -learning_rate/10 * x_gradient / m  \n",
    "    dy = -learning_rate/10 * y_gradient / m  \n",
    "    dz = -learning_rate/10 * z_gradient / m\n",
    "    dalpha = -learning_rate * alpha_gradient / m   \n",
    "    dbeta = -learning_rate * beta_gradient / m\n",
    "    dgama = -learning_rate * gama_gradient / m\n",
    "    # претходните 3 чекори по секој степен на слобода ги соединуваме во една трансформациона матрица\n",
    "    delta_transform = np.array(rt.hrotation3('x', dalpha) * rt.hrotation3('y', dbeta) * rt.hrotation3('z', dgama), dtype=np.float)\n",
    "    # и конечно го правиме чекорот\n",
    "    transform = delta_transform @ transform\n",
    "    #new_sensor_points = (transform @ slam_points)\n",
    "    # на крајот ја враќаме обновената вредност на transform и предвидената вредност за изместените податоци за да ги исцртаме\n",
    "    return transform, new_sensor_points\n",
    "\n",
    "def run(fig, sensor_points, slam_points):\n",
    "    learning_rate = -0.01\n",
    "    num_iterations = 10000\n",
    "    # почнуваме со случајно избрани вредности за x, y, и alpha\n",
    "    alpha, beta, gama = 0, 0, 0\n",
    "    transform = np.array(rt.hrotation3('x', alpha) * rt.hrotation3('y', beta) * rt.hrotation3('z', gama), dtype=np.float)\n",
    "    for i in range(num_iterations):\n",
    "        transform, new_sensor_points = step_gradient(sensor_points, slam_points, transform, learning_rate)\n",
    "        # цртаме на секоја стота итерација\n",
    "        if i % 100 == 0:\n",
    "            alpha, beta, gama = np.arctan2(transform[1, 0], transform[0, 0]) / np.pi * 180, np.arctan2(transform[0, 1], transform[1, 1]) / np.pi * 180, np.arctan2(transform[0, 2], transform[2, 2]) / np.pi * 180\n",
    "            with fig.batch_update():\n",
    "                fig.data[1].x, fig.data[1].y, fig.data[1].z = new_sensor_points[:, 0], new_sensor_points[:, 1], new_sensor_points[:, 2]\n",
    "                fig.data[1].marker.color = np.arange(len(new_sensor_points))\n",
    "    \n",
    "    alpha, beta, gama = np.arctan2(transform[1, 0], transform[0, 0]) / np.pi * 180, np.arctan2(transform[0, 1], transform[1, 1]) / np.pi * 180, np.arctan2(transform[0, 2], transform[2, 2]) / np.pi * 180\n",
    "    return alpha, beta, gama\n",
    "\n",
    "run(fig, sensor_data, slam_scale)"
   ]
  },
  {
   "cell_type": "code",
   "execution_count": null,
   "metadata": {},
   "outputs": [],
   "source": []
  }
 ],
 "metadata": {
  "kernelspec": {
   "display_name": "Python 3",
   "language": "python",
   "name": "python3"
  },
  "language_info": {
   "codemirror_mode": {
    "name": "ipython",
    "version": 3
   },
   "file_extension": ".py",
   "mimetype": "text/x-python",
   "name": "python",
   "nbconvert_exporter": "python",
   "pygments_lexer": "ipython3",
   "version": "3.7.4"
  }
 },
 "nbformat": 4,
 "nbformat_minor": 2
}
