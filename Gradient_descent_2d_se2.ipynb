{
 "cells": [
  {
   "cell_type": "code",
   "execution_count": 1,
   "metadata": {},
   "outputs": [],
   "source": [
    "import numpy as np\n",
    "import sympy as sp\n",
    "from plotly import graph_objects as go\n",
    "import script as rt"
   ]
  },
  {
   "cell_type": "markdown",
   "metadata": {},
   "source": [
    "Прво си измислуваме / дефинираме податоците."
   ]
  },
  {
   "cell_type": "code",
   "execution_count": 2,
   "metadata": {},
   "outputs": [],
   "source": [
    "h_slam_points = np.array([[1, 2, 1], [3, 5, 1], [4, 7, 1], [5, 8, 1]])\n",
    "transform = rt.hrotation2(np.pi/3) * rt.htranslation2(2.7, 3)\n",
    "transform = np.array(transform, dtype=np.float)\n",
    "h_sensor_points = (transform @ h_slam_points.T).T"
   ]
  },
  {
   "cell_type": "markdown",
   "metadata": {},
   "source": [
    "Изврши ја прво оваа ќелија, потоа наредната и гледај го исходот на графикот."
   ]
  },
  {
   "cell_type": "code",
   "execution_count": 3,
   "metadata": {},
   "outputs": [
    {
     "data": {
      "application/vnd.jupyter.widget-view+json": {
       "model_id": "20d5e6d728234ae4971421f860447edd",
       "version_major": 2,
       "version_minor": 0
      },
      "text/plain": [
       "FigureWidget({\n",
       "    'data': [{'marker': {'color': array([0, 1, 2, 3]), 'size': 10, 'symbol': 'x'},\n",
       "            …"
      ]
     },
     "metadata": {},
     "output_type": "display_data"
    }
   ],
   "source": [
    "fig = go.FigureWidget()\n",
    "fig.update_layout(xaxis={'range': [-7, 6]}, yaxis={'range': [1, 13]}),\n",
    "fig.add_trace(go.Scatter(x=h_sensor_points[:, 0], y=h_sensor_points[:, 1], mode='markers', name='Сензори',\n",
    "                         marker={'size': 10, 'symbol': 'x', 'color': np.arange(len(h_sensor_points))}))\n",
    "fig.add_trace(go.Scatter(x=h_slam_points[:, 0], y=h_slam_points[:, 1], mode='markers', name='SLAM', \n",
    "                         marker={'size': 10, 'color': np.arange(len(h_slam_points))}))\n",
    "\n",
    "fig"
   ]
  },
  {
   "cell_type": "code",
   "execution_count": 6,
   "metadata": {},
   "outputs": [
    {
     "data": {
      "text/plain": [
       "(-1.2515391163784921, 3.836349552050522, 59.96780574578148)"
      ]
     },
     "execution_count": 6,
     "metadata": {},
     "output_type": "execute_result"
    }
   ],
   "source": [
    "def error(h_sensor_points, h_slam_points, x, y, alpha):\n",
    "    \"\"\"\n",
    "    Функција која ја пресметува грешката, на начин на кој сме ја дефинирале.\n",
    "    \"\"\"\n",
    "    transform = rt.hrotation2(alpha) * rt.htranslation2(x, y)\n",
    "    transform = np.array(transform, dtype=np.float)\n",
    "    h_hat_sensor_points = (transform @ h_slam_points.T).T\n",
    "    e = h_sensor_points - h_hat_sensor_points\n",
    "    return np.apply_along_axis(lambda x: x.T @ x, 1, e)\n",
    "\n",
    "def step_gradient(h_sensor_points, h_slam_points, transform, learning_rate):\n",
    "    \"\"\"\n",
    "    Чекор со gradient descent.\n",
    "    \n",
    "    h_sensor_points, h_slam_points: се податоците кои ќе ни послужат за пресметка на грешката.\n",
    "    transform: е матрицата на трансформација чии членови ги бараме во оваа функција\n",
    "    learning_rate: стапката на учење\n",
    "    \"\"\"\n",
    "    x_gradient, y_gradient, alpha_gradient = 0, 0, 0\n",
    "    h_hat_sensor_points = (transform @ h_slam_points.T).T  # чекорот го почнуваме од моменталното предвидување...\n",
    "    r_vector = h_sensor_points - h_hat_sensor_points  # ...сѐ со цел да ја пресметаме грешката која ќе ни треба понатаму\n",
    "    r_x_vector, r_y_vector = r_vector[:, 0], r_vector[:, 1]  # тука ги вадиме грешките по x и y за секоја точка. Користиме хомогени координати\n",
    "    m = len(r_vector)\n",
    "    for r_x, r_y, h_sensor_point in zip(r_x_vector, r_y_vector, h_sensor_points):\n",
    "        x_gradient += r_x  # го пресметуваме градиентот по x\n",
    "        y_gradient += r_y  # го пресметуваме градиентот по y\n",
    "        alpha_gradient += -h_sensor_point[1] * r_x + h_sensor_point[0] * r_y    # го пресметуваме градиентот за аголот\n",
    "    dx = -learning_rate * x_gradient / m  # потоа со градиентот откриваме колкав чекор треба да направиме по x\n",
    "    dy = -learning_rate * y_gradient / m  # потоа со градиентот откриваме колкав чекор треба да направиме по y\n",
    "    dalpha = -learning_rate/10 * alpha_gradient / m   # потоа со градиентот откриваме колкав чекор треба да направиме по alpha\n",
    "    # претходните 3 чекори по секој степен на слобода ги соединуваме во една трансформациона матрица\n",
    "    delta_transform = np.array(rt.hrotation2(dalpha) * rt.htranslation2(dx, dy), dtype=np.float)\n",
    "    # и конечно го правиме чекорот\n",
    "    transform = delta_transform @ transform\n",
    "    # на крајот ја враќаме обновената вредност на transform и предвидената вредност за изместените податоци за да ги исцртаме\n",
    "    return transform, h_hat_sensor_points\n",
    "\n",
    "def run(fig, h_sensor_points, h_slam_points):\n",
    "    learning_rate = -0.01\n",
    "    num_iterations = 10000\n",
    "    # почнуваме со случајно избрани вредности за x, y, и alpha\n",
    "    x, y, alpha = 0, 0, 0\n",
    "    transform = np.array(rt.hrotation2(alpha) * rt.htranslation2(x, y), dtype=np.float)\n",
    "\n",
    "    for i in range(num_iterations):\n",
    "        transform, h_hat_sensor_points = step_gradient(h_sensor_points, h_slam_points, transform, learning_rate)\n",
    "        # цртаме на секоја стота итерација\n",
    "        if i % 100 == 0:\n",
    "            x, y, alpha = transform[0, 2], transform[1, 2], np.arctan2(transform[1, 0], transform[0, 0]) / np.pi * 180\n",
    "            with fig.batch_update():\n",
    "                fig.data[1].x, fig.data[1].y = h_hat_sensor_points[:, 0], h_hat_sensor_points[:, 1]\n",
    "                fig.data[1].marker.color = np.arange(len(h_hat_sensor_points))\n",
    "    \n",
    "    x, y, alpha = transform[0, 2], transform[1, 2], np.arctan2(transform[1, 0], transform[0, 0]) / np.pi * 180\n",
    "    return x, y, alpha\n",
    "\n",
    "run(fig, h_sensor_points, h_slam_points)"
   ]
  },
  {
   "cell_type": "code",
   "execution_count": null,
   "metadata": {},
   "outputs": [],
   "source": []
  },
  {
   "cell_type": "code",
   "execution_count": null,
   "metadata": {},
   "outputs": [],
   "source": []
  },
  {
   "cell_type": "code",
   "execution_count": null,
   "metadata": {},
   "outputs": [],
   "source": []
  },
  {
   "cell_type": "code",
   "execution_count": null,
   "metadata": {},
   "outputs": [],
   "source": []
  },
  {
   "cell_type": "code",
   "execution_count": null,
   "metadata": {},
   "outputs": [],
   "source": []
  },
  {
   "cell_type": "code",
   "execution_count": null,
   "metadata": {},
   "outputs": [],
   "source": []
  }
 ],
 "metadata": {
  "kernelspec": {
   "display_name": "Python 3",
   "language": "python",
   "name": "python3"
  },
  "language_info": {
   "codemirror_mode": {
    "name": "ipython",
    "version": 3
   },
   "file_extension": ".py",
   "mimetype": "text/x-python",
   "name": "python",
   "nbconvert_exporter": "python",
   "pygments_lexer": "ipython3",
   "version": "3.8.3"
  }
 },
 "nbformat": 4,
 "nbformat_minor": 4
}
